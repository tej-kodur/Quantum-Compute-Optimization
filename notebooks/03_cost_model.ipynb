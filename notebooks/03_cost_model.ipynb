{
 "cells": [
  {
   "cell_type": "code",
   "execution_count": 7,
   "id": "63426a27",
   "metadata": {},
   "outputs": [],
   "source": [
    "# ------------------------------------------------------------\n",
    "# Cell 1 – Setup folders & install PyYAML (if missing)\n",
    "# ------------------------------------------------------------\n",
    "# Install PyYAML only once; comment out if already in env\n",
    "!pip -q install pyyaml\n",
    "\n",
    "import pathlib, yaml, textwrap, pandas as pd, numpy as np\n",
    "CONFIG_DIR = pathlib.Path(\"../provider_configs\")\n",
    "CONFIG_DIR.mkdir(exist_ok=True)"
   ]
  },
  {
   "cell_type": "code",
   "execution_count": 8,
   "id": "32faf0bf",
   "metadata": {},
   "outputs": [
    {
     "name": "stdout",
     "output_type": "stream",
     "text": [
      "Config written → /Users/tej/Career/Projects/Quantum Compute Optimization/v1/provider_configs/qpu_demo.yml\n"
     ]
    }
   ],
   "source": [
    "# ------------------------------------------------------------\n",
    "# Cell 2 – Create price-sheet YAML (overwrite-safe)\n",
    "# ------------------------------------------------------------\n",
    "yaml_content = {\n",
    "    \"lease_fee\" : {\"Atom\": 3.00, \"Photon\": 1.50, \"Spin\": 0.40},\n",
    "    \"exec_fee\"  : {\"Atom\": 0.01, \"Photon\": 0.05, \"Spin\": 0.20},\n",
    "    \"trigger_fee\": 0.01,\n",
    "    \"acq_cost\"  : 0.20,\n",
    "    \"transfer_fee\": {\"Atom\": 0.01, \"Photon\": 0.10, \"Spin\": 0.25}\n",
    "}\n",
    "config_path = CONFIG_DIR / \"qpu_demo.yml\"\n",
    "with open(config_path, \"w\") as f:\n",
    "    yaml.dump(yaml_content, f)\n",
    "print(\"Config written →\", config_path.resolve())"
   ]
  },
  {
   "cell_type": "code",
   "execution_count": 9,
   "id": "cf5a4242",
   "metadata": {},
   "outputs": [
    {
     "name": "stdout",
     "output_type": "stream",
     "text": [
      "Module saved → /Users/tej/Career/Projects/Quantum Compute Optimization/v1/notebooks/cost_model.py\n"
     ]
    }
   ],
   "source": [
    "code_str = \"\"\"\n",
    "import yaml, pathlib\n",
    "from typing import Dict\n",
    "\n",
    "class CostModel:\n",
    "    \\\"\\\"\\\"Loads price sheet and exposes fee helpers.\\\"\\\"\\\"\n",
    "\n",
    "    def __init__(self, yaml_path: str | pathlib.Path):\n",
    "        with open(yaml_path, \"r\") as f:\n",
    "            cfg = yaml.safe_load(f)\n",
    "        self.lease_fee   : Dict[str, float] = cfg[\"lease_fee\"]\n",
    "        self.exec_fee    : Dict[str, float] = cfg[\"exec_fee\"]\n",
    "        self.trigger_fee : float            = cfg[\"trigger_fee\"]\n",
    "        self.acq_cost    : float            = cfg[\"acq_cost\"]\n",
    "        self.transfer_fee: Dict[str, float] = cfg[\"transfer_fee\"]\n",
    "\n",
    "    # ---------- granular fee look-ups ----------\n",
    "    def lease(self, block_type: str, hours: int = 24, n_blocks: int = 1) -> float:\n",
    "        return self.lease_fee[block_type] * hours * n_blocks\n",
    "\n",
    "    def exec(self, block_type: str, n_jobs: int) -> float:\n",
    "        return self.exec_fee[block_type] * n_jobs\n",
    "\n",
    "    def trigger(self, n_jobs: int) -> float:\n",
    "        return self.trigger_fee * n_jobs\n",
    "\n",
    "    def acquisition(self, n_blocks: int) -> float:\n",
    "        return self.acq_cost * n_blocks\n",
    "\n",
    "    def transfer(self, new_type: str, n_blocks: int) -> float:\n",
    "        return self.transfer_fee[new_type] * n_blocks\n",
    "\"\"\"\n",
    "path = pathlib.Path(\"cost_model.py\")\n",
    "path.write_text(textwrap.dedent(code_str))\n",
    "print(\"Module saved →\", path.resolve())"
   ]
  },
  {
   "cell_type": "code",
   "execution_count": 10,
   "id": "8bb9e328",
   "metadata": {},
   "outputs": [
    {
     "name": "stdout",
     "output_type": "stream",
     "text": [
      "Toy-day total cost: $144.44\n",
      "Unit-test ✔ passed\n"
     ]
    }
   ],
   "source": [
    "from cost_model import CostModel\n",
    "cm = CostModel(config_path)\n",
    "\n",
    "# Toy scenario: 2 Atom blocks leased today, each runs 1 workload\n",
    "total = (\n",
    "    cm.acquisition(2) +                 # 2 × 0.20\n",
    "    cm.lease(\"Atom\", hours=24, n_blocks=2) +  # 2 × 3.00 × 24\n",
    "    cm.trigger(2) +                     # 2 × 0.01\n",
    "    cm.exec(\"Atom\", n_jobs=2)           # 2 × 0.01\n",
    ")\n",
    "print(f\"Toy-day total cost: ${total:.2f}\")\n",
    "assert abs(total - (0.40 + 144 + 0.02 + 0.02)) < 1e-9\n",
    "print(\"Unit-test ✔ passed\")"
   ]
  },
  {
   "cell_type": "code",
   "execution_count": 13,
   "id": "7a8a5e8f",
   "metadata": {},
   "outputs": [
    {
     "name": "stdout",
     "output_type": "stream",
     "text": [
      "Total blocks rows : 981230\n"
     ]
    },
    {
     "data": {
      "text/html": [
       "<div>\n",
       "<style scoped>\n",
       "    .dataframe tbody tr th:only-of-type {\n",
       "        vertical-align: middle;\n",
       "    }\n",
       "\n",
       "    .dataframe tbody tr th {\n",
       "        vertical-align: top;\n",
       "    }\n",
       "\n",
       "    .dataframe thead th {\n",
       "        text-align: right;\n",
       "    }\n",
       "</style>\n",
       "<table border=\"1\" class=\"dataframe\">\n",
       "  <thead>\n",
       "    <tr style=\"text-align: right;\">\n",
       "      <th></th>\n",
       "      <th>qpu_units</th>\n",
       "    </tr>\n",
       "  </thead>\n",
       "  <tbody>\n",
       "    <tr>\n",
       "      <th>0</th>\n",
       "      <td>37417910</td>\n",
       "    </tr>\n",
       "    <tr>\n",
       "      <th>1</th>\n",
       "      <td>99702449</td>\n",
       "    </tr>\n",
       "    <tr>\n",
       "      <th>2</th>\n",
       "      <td>10674071</td>\n",
       "    </tr>\n",
       "    <tr>\n",
       "      <th>3</th>\n",
       "      <td>92483044</td>\n",
       "    </tr>\n",
       "    <tr>\n",
       "      <th>4</th>\n",
       "      <td>62600725</td>\n",
       "    </tr>\n",
       "  </tbody>\n",
       "</table>\n",
       "</div>"
      ],
      "text/plain": [
       "   qpu_units\n",
       "0   37417910\n",
       "1   99702449\n",
       "2   10674071\n",
       "3   92483044\n",
       "4   62600725"
      ]
     },
     "metadata": {},
     "output_type": "display_data"
    },
    {
     "data": {
      "text/plain": [
       "day\n",
       "0    26268684\n",
       "1    27178704\n",
       "Name: n_workloads, dtype: int64"
      ]
     },
     "metadata": {},
     "output_type": "display_data"
    }
   ],
   "source": [
    "import pyarrow.dataset as ds\n",
    "\n",
    "blocks_ds = ds.dataset(\"../data/blocks.parquet\")\n",
    "wl_ds     = ds.dataset(\"../data/workloads_daily.parquet\")\n",
    "\n",
    "print(\"Total blocks rows :\", blocks_ds.count_rows())\n",
    "\n",
    "# ---- show 5 sample block sizes (version-safe) ----\n",
    "sample = blocks_ds.scanner(columns=[\"qpu_units\"]).head(5).to_pandas()\n",
    "display(sample)\n",
    "\n",
    "# ---- aggregate workloads for first 2 days ----\n",
    "first2 = (wl_ds\n",
    "          .filter(ds.field(\"day\") < 2)\n",
    "          .to_table(columns=[\"day\",\"n_workloads\"])\n",
    "          .to_pandas()\n",
    "          .groupby(\"day\")[\"n_workloads\"].sum())\n",
    "display(first2)"
   ]
  },
  {
   "cell_type": "code",
   "execution_count": null,
   "id": "5fa4aa25",
   "metadata": {},
   "outputs": [],
   "source": []
  }
 ],
 "metadata": {
  "kernelspec": {
   "display_name": "Python 3 (ipykernel)",
   "language": "python",
   "name": "python3"
  },
  "language_info": {
   "codemirror_mode": {
    "name": "ipython",
    "version": 3
   },
   "file_extension": ".py",
   "mimetype": "text/x-python",
   "name": "python",
   "nbconvert_exporter": "python",
   "pygments_lexer": "ipython3",
   "version": "3.11.5"
  }
 },
 "nbformat": 4,
 "nbformat_minor": 5
}

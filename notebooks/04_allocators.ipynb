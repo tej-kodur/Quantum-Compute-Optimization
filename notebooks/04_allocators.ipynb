{
 "cells": [
  {
   "cell_type": "code",
   "execution_count": 40,
   "id": "d42f9065",
   "metadata": {},
   "outputs": [],
   "source": [
    "!pip -q install pyarrow tqdm\n",
    "import pyarrow.dataset as ds, pandas as pd, numpy as np, pathlib, math\n",
    "from tqdm.auto import tqdm\n",
    "from cost_model import CostModel\n",
    "DATA   = pathlib.Path(\"../data\")\n",
    "RESULT = pathlib.Path(\"../results\"); RESULT.mkdir(exist_ok=True)\n",
    "\n",
    "cm = CostModel(\"../provider_configs/qpu_demo.yml\")"
   ]
  },
  {
   "cell_type": "code",
   "execution_count": 41,
   "id": "6bb02fc3",
   "metadata": {},
   "outputs": [
    {
     "name": "stdout",
     "output_type": "stream",
     "text": [
      "Blocks: 981230 | baseline distribution: {'Atom': 327077, 'Photon': 327077, 'Spin': 327076}\n"
     ]
    }
   ],
   "source": [
    "blocks = ds.dataset(DATA/\"blocks.parquet\").to_table().to_pandas()\n",
    "\n",
    "# 1-2-3 round-robin → equal Atom/Photon/Spin share\n",
    "type_cycle = ([\"Atom\", \"Photon\", \"Spin\"]\n",
    "              * math.ceil(len(blocks)/3))[:len(blocks)]\n",
    "blocks[\"type_initial\"] = type_cycle\n",
    "\n",
    "size2type_base = dict(zip(blocks.qpu_units, blocks.type_initial))\n",
    "print(\"Blocks:\", len(blocks),\n",
    "      \"| baseline distribution:\",\n",
    "      pd.Series(size2type_base).value_counts().to_dict())"
   ]
  },
  {
   "cell_type": "code",
   "execution_count": 42,
   "id": "e84092f7",
   "metadata": {},
   "outputs": [],
   "source": [
    "# total jobs per size\n",
    "tot_jobs = (ds.dataset(DATA/\"workloads_daily.parquet\")\n",
    "              .to_table(columns=[\"qpu_units\",\"n_workloads\"])\n",
    "              .to_pandas()\n",
    "              .groupby(\"qpu_units\")[\"n_workloads\"]\n",
    "              .sum())\n",
    "\n",
    "# active days each block exists (180 – lease_day)\n",
    "active_days = 180 - blocks.set_index(\"qpu_units\")[\"lease_day\"]\n",
    "avg_jobs    = (tot_jobs / active_days).to_dict()\n",
    "\n",
    "def cheapest(avg):\n",
    "    if   avg >= 900:  return \"Atom\"      # break-even thresholds\n",
    "    elif avg >= 176:  return \"Photon\"\n",
    "    else:             return \"Spin\"\n",
    "\n",
    "size2type_opt = {sz: cheapest(avg_jobs.get(sz,0)) for sz in blocks.qpu_units}"
   ]
  },
  {
   "cell_type": "code",
   "execution_count": 48,
   "id": "7014585b",
   "metadata": {},
   "outputs": [],
   "source": [
    "# ------------------------------------------------------------\n",
    "# Cell 3-bis  –  Baseline B one-shot cheapest tag\n",
    "# ------------------------------------------------------------\n",
    "size2type_baseB = {sz: cheapest(avg_jobs.get(sz, 0))\n",
    "                   for sz in blocks.qpu_units}"
   ]
  },
  {
   "cell_type": "code",
   "execution_count": 43,
   "id": "c26e10d1",
   "metadata": {},
   "outputs": [],
   "source": [
    "wl_ds = ds.dataset(DATA/\"workloads_daily.parquet\")\n",
    "\n",
    "def workloads_by_day():\n",
    "    for d in range(180):\n",
    "        tbl = wl_ds.filter(ds.field(\"day\") == d).to_table()\n",
    "        if tbl.num_rows:\n",
    "            yield d, tbl.to_pandas()\n",
    "\n",
    "def exec_trigger_cost(day_df, type_map):\n",
    "    cost = 0.0\n",
    "    for r in day_df.itertuples(index=False):\n",
    "        typ  = type_map[r.qpu_units]\n",
    "        jobs = r.n_workloads\n",
    "        cost += cm.exec(typ, jobs) + cm.trigger(jobs)\n",
    "    return cost"
   ]
  },
  {
   "cell_type": "code",
   "execution_count": 49,
   "id": "047721b6",
   "metadata": {},
   "outputs": [],
   "source": [
    "def exec_trigger_cost_B(day_df):\n",
    "    cost = 0.0\n",
    "    for r in day_df.itertuples(index=False):\n",
    "        typ  = size2type_baseB[r.qpu_units]\n",
    "        cost += cm.exec(typ, r.n_workloads) + cm.trigger(r.n_workloads)\n",
    "    return cost"
   ]
  },
  {
   "cell_type": "code",
   "execution_count": 52,
   "id": "464650e3",
   "metadata": {},
   "outputs": [],
   "source": [
    "from collections import defaultdict, deque\n",
    "\n",
    "# 7-day rolling job totals for each size\n",
    "ROLL_DAYS = 7\n",
    "rolling_sum  : dict[int, int]      = defaultdict(int)        # size → jobs in last ≤7 days\n",
    "rolling_q    : dict[int, deque]    = defaultdict(deque)      # size → deque([count_d-6 … d])\n",
    "\n",
    "# mutable type map that can change over time\n",
    "size2type_dyn = size2type_baseB.copy()    # start from baseline-B tags\n",
    "\n",
    "def tag_for(avg7: float) -> str:\n",
    "    \"\"\"Return cheapest tag given 7-day avg jobs (using same break-even).\"\"\"\n",
    "    if   avg7 >= 900:  return \"Atom\"\n",
    "    elif avg7 >= 176:  return \"Photon\"\n",
    "    else:              return \"Spin\""
   ]
  },
  {
   "cell_type": "code",
   "execution_count": 53,
   "id": "d115d1e7",
   "metadata": {},
   "outputs": [
    {
     "data": {
      "application/vnd.jupyter.widget-view+json": {
       "model_id": "4d585b9371154f1aaea2789736142970",
       "version_major": 2,
       "version_minor": 0
      },
      "text/plain": [
       "  0%|          | 0/180 [00:00<?, ?it/s]"
      ]
     },
     "metadata": {},
     "output_type": "display_data"
    }
   ],
   "source": [
    "records = []\n",
    "\n",
    "for day, df in tqdm(workloads_by_day(), total=180):\n",
    "    # --- acquisition on this day ---\n",
    "    acq_today = cm.acquisition((blocks.lease_day == day).sum())\n",
    "\n",
    "    # --- update rolling window & maybe retag each size seen today ---\n",
    "    trans_cost_today = 0.0\n",
    "    for r in df.itertuples(index=False):\n",
    "        sz, jobs = r.qpu_units, r.n_workloads\n",
    "\n",
    "        # update rolling structures\n",
    "        rolling_q[sz].append(jobs)\n",
    "        rolling_sum[sz] += jobs\n",
    "        if len(rolling_q[sz]) > ROLL_DAYS:\n",
    "            rolling_sum[sz] -= rolling_q[sz].popleft()\n",
    "\n",
    "        avg7 = rolling_sum[sz] / len(rolling_q[sz])          # 1–7 day avg\n",
    "        new_tag = tag_for(avg7)\n",
    "        cur_tag = size2type_dyn[sz]\n",
    "\n",
    "        if new_tag != cur_tag:                               # retag & pay fee\n",
    "            trans_cost_today += cm.transfer(new_tag, 1)\n",
    "            size2type_dyn[sz] = new_tag\n",
    "\n",
    "    # --- active block mask (≤ today) ---\n",
    "    active_sizes = blocks.qpu_units[blocks.lease_day <= day]\n",
    "\n",
    "    # ----- lease fees for each strategy -----\n",
    "    nA  = pd.Series(size2type_base ).reindex(active_sizes).value_counts()\n",
    "    nB  = pd.Series(size2type_baseB).reindex(active_sizes).value_counts()\n",
    "    nG  = pd.Series(size2type_dyn ).reindex(active_sizes).value_counts()\n",
    "\n",
    "    leaseA = sum(cm.lease(t, n_blocks=nA.get(t,0)) for t in nA.index)\n",
    "    leaseB = sum(cm.lease(t, n_blocks=nB.get(t,0)) for t in nB.index)\n",
    "    leaseG = sum(cm.lease(t, n_blocks=nG.get(t,0)) for t in nG.index)\n",
    "\n",
    "    # ----- exec + trigger -----\n",
    "    execA = exec_trigger_cost(df, size2type_base )\n",
    "    execB = exec_trigger_cost_B(df)                 # same helper from earlier\n",
    "    execG = exec_trigger_cost(df, size2type_dyn  )\n",
    "\n",
    "    records.append({\n",
    "        \"day\":day,\n",
    "        \"baselineA_cost\": acq_today + leaseA + execA,\n",
    "        \"baselineB_cost\": acq_today + leaseB + execB,\n",
    "        \"greedy_cost\"   : acq_today + leaseG + execG + trans_cost_today  # v3\n",
    "    })\n",
    "\n",
    "metrics = pd.DataFrame(records)\n",
    "metrics.to_parquet(RESULT/\"daily_metrics.parquet\", index=False, compression=\"snappy\")"
   ]
  },
  {
   "cell_type": "code",
   "execution_count": 54,
   "id": "351690d9",
   "metadata": {
    "scrolled": true
   },
   "outputs": [
    {
     "name": "stdout",
     "output_type": "stream",
     "text": [
      "Baseline A (equal thirds) : $3,937,122,560.85\n",
      "Baseline B (one-shot tag) : $1,878,361,787.71\n",
      "Greedy v3 (7-day retag)   : $1,815,573,126.70\n",
      "\n",
      "Savings vs Baseline B     : 3.3 %\n"
     ]
    }
   ],
   "source": [
    "# ------------------------------------------------------------\n",
    "# Cell X – Headline metrics & savings\n",
    "# ------------------------------------------------------------\n",
    "import pandas as pd, pathlib\n",
    "\n",
    "METRICS_PATH = pathlib.Path(\"../results/daily_metrics.parquet\")\n",
    "metrics = pd.read_parquet(METRICS_PATH)\n",
    "\n",
    "tot_A = metrics.baselineA_cost.sum()\n",
    "tot_B = metrics.baselineB_cost.sum()\n",
    "tot_G = metrics.greedy_cost.sum()\n",
    "\n",
    "print(f\"Baseline A (equal thirds) : ${tot_A:,.2f}\")\n",
    "print(f\"Baseline B (one-shot tag) : ${tot_B:,.2f}\")\n",
    "print(f\"Greedy v3 (7-day retag)   : ${tot_G:,.2f}\")\n",
    "\n",
    "print(f\"\\nSavings vs Baseline B     : {(tot_B - tot_G) / tot_B * 100:,.1f} %\")"
   ]
  },
  {
   "cell_type": "code",
   "execution_count": 47,
   "id": "a1d6c586",
   "metadata": {},
   "outputs": [
    {
     "data": {
      "text/html": [
       "<div>\n",
       "<style scoped>\n",
       "    .dataframe tbody tr th:only-of-type {\n",
       "        vertical-align: middle;\n",
       "    }\n",
       "\n",
       "    .dataframe tbody tr th {\n",
       "        vertical-align: top;\n",
       "    }\n",
       "\n",
       "    .dataframe thead th {\n",
       "        text-align: right;\n",
       "    }\n",
       "</style>\n",
       "<table border=\"1\" class=\"dataframe\">\n",
       "  <thead>\n",
       "    <tr style=\"text-align: right;\">\n",
       "      <th></th>\n",
       "      <th>n_workloads</th>\n",
       "      <th>baseline_tag</th>\n",
       "      <th>exec_fee</th>\n",
       "    </tr>\n",
       "  </thead>\n",
       "  <tbody>\n",
       "    <tr>\n",
       "      <th>33823285</th>\n",
       "      <td>39590.0</td>\n",
       "      <td>Photon</td>\n",
       "      <td>0.05</td>\n",
       "    </tr>\n",
       "    <tr>\n",
       "      <th>77946800</th>\n",
       "      <td>39566.0</td>\n",
       "      <td>Spin</td>\n",
       "      <td>0.20</td>\n",
       "    </tr>\n",
       "    <tr>\n",
       "      <th>96319763</th>\n",
       "      <td>39543.0</td>\n",
       "      <td>Atom</td>\n",
       "      <td>0.01</td>\n",
       "    </tr>\n",
       "    <tr>\n",
       "      <th>63482173</th>\n",
       "      <td>39523.0</td>\n",
       "      <td>Spin</td>\n",
       "      <td>0.20</td>\n",
       "    </tr>\n",
       "    <tr>\n",
       "      <th>17119592</th>\n",
       "      <td>39507.0</td>\n",
       "      <td>Atom</td>\n",
       "      <td>0.01</td>\n",
       "    </tr>\n",
       "    <tr>\n",
       "      <th>85200970</th>\n",
       "      <td>39490.0</td>\n",
       "      <td>Spin</td>\n",
       "      <td>0.20</td>\n",
       "    </tr>\n",
       "    <tr>\n",
       "      <th>9892445</th>\n",
       "      <td>39480.0</td>\n",
       "      <td>Photon</td>\n",
       "      <td>0.05</td>\n",
       "    </tr>\n",
       "    <tr>\n",
       "      <th>98464681</th>\n",
       "      <td>39438.0</td>\n",
       "      <td>Atom</td>\n",
       "      <td>0.01</td>\n",
       "    </tr>\n",
       "    <tr>\n",
       "      <th>9697788</th>\n",
       "      <td>39433.0</td>\n",
       "      <td>Photon</td>\n",
       "      <td>0.05</td>\n",
       "    </tr>\n",
       "    <tr>\n",
       "      <th>19160176</th>\n",
       "      <td>39424.0</td>\n",
       "      <td>Spin</td>\n",
       "      <td>0.20</td>\n",
       "    </tr>\n",
       "  </tbody>\n",
       "</table>\n",
       "</div>"
      ],
      "text/plain": [
       "          n_workloads baseline_tag  exec_fee\n",
       "33823285      39590.0       Photon      0.05\n",
       "77946800      39566.0         Spin      0.20\n",
       "96319763      39543.0         Atom      0.01\n",
       "63482173      39523.0         Spin      0.20\n",
       "17119592      39507.0         Atom      0.01\n",
       "85200970      39490.0         Spin      0.20\n",
       "9892445       39480.0       Photon      0.05\n",
       "98464681      39438.0         Atom      0.01\n",
       "9697788       39433.0       Photon      0.05\n",
       "19160176      39424.0         Spin      0.20"
      ]
     },
     "metadata": {},
     "output_type": "display_data"
    }
   ],
   "source": [
    "import pandas as pd, pyarrow.dataset as ds\n",
    "ds_blocks = ds.dataset(\"../data/blocks.parquet\")\n",
    "ds_wl     = ds.dataset(\"../data/workloads_daily.parquet\")\n",
    "\n",
    "# jobs by size\n",
    "jobs = (ds_wl\n",
    "        .to_table(columns=[\"qpu_units\",\"n_workloads\"])\n",
    "        .to_pandas()\n",
    "        .groupby(\"qpu_units\")[\"n_workloads\"]\n",
    "        .sum())\n",
    "\n",
    "# merge with baseline tag\n",
    "tags = pd.Series(size2type_base, name=\"baseline_tag\")\n",
    "hot  = (pd.concat([jobs, tags], axis=1)\n",
    "          .nlargest(10, \"n_workloads\"))\n",
    "display(hot.assign(exec_fee=lambda d:\n",
    "        d.baseline_tag.map({\"Atom\":0.01,\"Photon\":0.05,\"Spin\":0.20})))"
   ]
  },
  {
   "cell_type": "code",
   "execution_count": null,
   "id": "d9b1f786",
   "metadata": {},
   "outputs": [],
   "source": []
  }
 ],
 "metadata": {
  "kernelspec": {
   "display_name": "Python 3 (ipykernel)",
   "language": "python",
   "name": "python3"
  },
  "language_info": {
   "codemirror_mode": {
    "name": "ipython",
    "version": 3
   },
   "file_extension": ".py",
   "mimetype": "text/x-python",
   "name": "python",
   "nbconvert_exporter": "python",
   "pygments_lexer": "ipython3",
   "version": "3.11.5"
  }
 },
 "nbformat": 4,
 "nbformat_minor": 5
}

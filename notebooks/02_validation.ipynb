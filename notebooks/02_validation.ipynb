{
 "cells": [
  {
   "cell_type": "code",
   "execution_count": 3,
   "id": "b7ab552f",
   "metadata": {},
   "outputs": [
    {
     "name": "stdout",
     "output_type": "stream",
     "text": [
      "Blocks size uniqueness: ✔ OK\n",
      "Workload size coverage: ✔ OK\n",
      "Daily block count range : ✔ OK\n",
      "Daily workload count rng: ✔ OK\n"
     ]
    }
   ],
   "source": [
    "import pyarrow.dataset as ds, pyarrow as pa, numpy as np, math, tqdm, pathlib, pandas as pd\n",
    "\n",
    "WL_MIN, WL_MAX      = 1_000_000, 50_000_000\n",
    "\n",
    "blocks_path = pathlib.Path(\"../data/blocks.parquet\")\n",
    "wl_path     = pathlib.Path(\"../data/workloads_daily.parquet\")\n",
    "\n",
    "# ---------- 1. uniqueness of qpu_units in blocks ----------\n",
    "seen_sizes = set()\n",
    "dup_found   = False\n",
    "for batch in ds.dataset(blocks_path).to_batches(columns=[\"qpu_units\"], batch_size=100_000):\n",
    "    arr = batch[\"qpu_units\"].to_numpy()\n",
    "    intersect = set(arr) & seen_sizes\n",
    "    if intersect:\n",
    "        dup_found = True\n",
    "        print(\"❌ DUPLICATE SIZE(S):\", list(intersect)[:5])\n",
    "        break\n",
    "    seen_sizes.update(arr)\n",
    "print(\"Blocks size uniqueness:\", \"✔ OK\" if not dup_found else \"FAILED\")\n",
    "\n",
    "# ---------- 2. workload qpu_units ⊆ blocks.qpu_units ----------\n",
    "missing = set()\n",
    "for batch in ds.dataset(wl_path).to_batches(columns=[\"qpu_units\"], batch_size=500_000):\n",
    "    arr = batch[\"qpu_units\"].to_numpy()\n",
    "    mask = np.isin(arr, list(seen_sizes), assume_unique=True, invert=True)\n",
    "    if mask.any():\n",
    "        missing.update(arr[mask])\n",
    "        if len(missing) > 10:\n",
    "            break\n",
    "print(\"Workload size coverage:\", \"✔ OK\" if not missing else f\"❌ Missing {len(missing)} size(s)\")\n",
    "\n",
    "# ---------- 3. per-day ranges ----------\n",
    "# ---------- 3. per-day ranges (corrected) ----------\n",
    "wl_tbl  = ds.dataset(wl_path)\n",
    "daily_wl = (wl_tbl\n",
    "            .to_table(columns=[\"day\",\"n_workloads\"])\n",
    "            .group_by(\"day\")\n",
    "            .aggregate([(\"n_workloads\", \"sum\")])\n",
    "            .to_pandas())\n",
    "\n",
    "rng_ok = daily_wl[\"n_workloads_sum\"].between(WL_MIN, WL_MAX).all()\n",
    "\n",
    "blk_tbl = ds.dataset(blocks_path)\n",
    "blk_cnt = blk_tbl.to_table(columns=[\"lease_day\"]).to_pandas()[\"lease_day\"].value_counts()\n",
    "blk_ok  = blk_cnt.between(1_000, 10_000).all()\n",
    "\n",
    "print(\"Daily block count range :\", \"✔ OK\" if blk_ok else \"❌ OUT OF RANGE\")\n",
    "print(\"Daily workload count rng:\", \"✔ OK\" if rng_ok else \"❌ OUT OF RANGE\")"
   ]
  },
  {
   "cell_type": "code",
   "execution_count": null,
   "id": "2ca31283",
   "metadata": {},
   "outputs": [],
   "source": []
  }
 ],
 "metadata": {
  "kernelspec": {
   "display_name": "Python 3 (ipykernel)",
   "language": "python",
   "name": "python3"
  },
  "language_info": {
   "codemirror_mode": {
    "name": "ipython",
    "version": 3
   },
   "file_extension": ".py",
   "mimetype": "text/x-python",
   "name": "python",
   "nbconvert_exporter": "python",
   "pygments_lexer": "ipython3",
   "version": "3.11.5"
  }
 },
 "nbformat": 4,
 "nbformat_minor": 5
}

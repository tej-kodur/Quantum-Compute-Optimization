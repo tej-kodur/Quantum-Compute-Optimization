{
 "cells": [
  {
   "cell_type": "code",
   "execution_count": 1,
   "id": "ea65a320",
   "metadata": {},
   "outputs": [
    {
     "name": "stderr",
     "output_type": "stream",
     "text": [
      "/Users/tej/anaconda3/lib/python3.11/site-packages/pandas/core/arrays/masked.py:60: UserWarning: Pandas requires version '1.3.6' or newer of 'bottleneck' (version '1.3.5' currently installed).\n",
      "  from pandas.core import (\n"
     ]
    }
   ],
   "source": [
    "# Cell 1 – imports\n",
    "import pyarrow.dataset as ds, pandas as pd, numpy as np, math, pathlib\n",
    "from collections import defaultdict, deque\n",
    "from tqdm.auto import tqdm\n",
    "from cost_model import CostModel\n",
    "\n",
    "DATA   = pathlib.Path(\"../data\")\n",
    "RESULT = pathlib.Path(\"../results\"); RESULT.mkdir(exist_ok=True)\n",
    "cm     = CostModel(\"../provider_configs/qpu_demo.yml\")"
   ]
  },
  {
   "cell_type": "code",
   "execution_count": 2,
   "id": "507e9a4a",
   "metadata": {},
   "outputs": [],
   "source": [
    "# Cell 2 – load blocks and set Baseline A tags (equal thirds)\n",
    "blocks = ds.dataset(DATA/\"blocks.parquet\").to_table().to_pandas()\n",
    "blocks[\"tag_A\"] = ([\"Atom\",\"Photon\",\"Spin\"] *\n",
    "                   math.ceil(len(blocks)/3))[:len(blocks)]\n",
    "\n",
    "size2tag_A = dict(zip(blocks.qpu_units, blocks.tag_A))"
   ]
  },
  {
   "cell_type": "code",
   "execution_count": 3,
   "id": "2a6608dd",
   "metadata": {},
   "outputs": [],
   "source": [
    "# Cell 3 – pre-compute lifetime-avg jobs & Baseline B tags\n",
    "tot_jobs = (ds.dataset(DATA/\"workloads_daily.parquet\")\n",
    "              .to_table(columns=[\"qpu_units\",\"n_workloads\"])\n",
    "              .to_pandas()\n",
    "              .groupby(\"qpu_units\")[\"n_workloads\"]\n",
    "              .sum())\n",
    "active_days = 180 - blocks.set_index(\"qpu_units\").lease_day\n",
    "avg_jobs_life = (tot_jobs / active_days).fillna(0)\n",
    "\n",
    "def cheapest(j):             # break-even thresholds\n",
    "    return \"Atom\"   if j>=900 else (\"Photon\" if j>=176 else \"Spin\")\n",
    "\n",
    "blocks[\"tag_B\"] = [cheapest(avg_jobs_life[sz])\n",
    "                   for sz in blocks.qpu_units]\n",
    "size2tag_B = dict(zip(blocks.qpu_units, blocks.tag_B))"
   ]
  },
  {
   "cell_type": "code",
   "execution_count": 4,
   "id": "501e9187",
   "metadata": {},
   "outputs": [],
   "source": [
    "# Cell 4 – helpers for strategies S (static per-day) & D (rolling)\n",
    "ROLL_DAYS = 7\n",
    "decay     = 0.8              # EWMA factor for strategy S\n",
    "ewma      = defaultdict(float)\n",
    "rolling_q = defaultdict(deque)\n",
    "rolling_s = defaultdict(int)\n",
    "\n",
    "size2tag_S = size2tag_B.copy()   # start from lifetime optimum\n",
    "size2tag_D = size2tag_B.copy()"
   ]
  },
  {
   "cell_type": "code",
   "execution_count": 5,
   "id": "41ba44f8",
   "metadata": {},
   "outputs": [],
   "source": [
    "# Cell 5 – workload iterator + cost helper\n",
    "wl_ds = ds.dataset(DATA/\"workloads_daily.parquet\")\n",
    "def workloads_by_day():\n",
    "    for d in range(180):\n",
    "        tbl = wl_ds.filter(ds.field(\"day\")==d).to_table()\n",
    "        if tbl.num_rows:\n",
    "            yield d, tbl.to_pandas()\n",
    "\n",
    "def exec_trigger(df, mapping):\n",
    "    return sum(cm.exec(mapping[r.qpu_units], r.n_workloads) +\n",
    "               cm.trigger(r.n_workloads) for r in df.itertuples(index=False))"
   ]
  },
  {
   "cell_type": "code",
   "execution_count": 6,
   "id": "e6e86fae",
   "metadata": {},
   "outputs": [
    {
     "data": {
      "application/vnd.jupyter.widget-view+json": {
       "model_id": "5936faff7df74f6aa0f61f789e81fa56",
       "version_major": 2,
       "version_minor": 0
      },
      "text/plain": [
       "  0%|          | 0/180 [00:00<?, ?it/s]"
      ]
     },
     "metadata": {},
     "output_type": "display_data"
    }
   ],
   "source": [
    "# Cell 6 – daily loop\n",
    "records=[]\n",
    "for day, df in tqdm(workloads_by_day(), total=180):\n",
    "    acq_today = cm.acquisition((blocks.lease_day==day).sum())\n",
    "    active    = blocks.qpu_units[blocks.lease_day<=day]\n",
    "\n",
    "    # ---------- Strategy S & D retagging ----------\n",
    "    trans_S = trans_D = 0.0\n",
    "    for r in df.itertuples(index=False):\n",
    "        sz, jobs = r.qpu_units, r.n_workloads\n",
    "\n",
    "        # ----- EWMA for Static S -----\n",
    "        ewma[sz] = decay*ewma[sz] + (1-decay)*jobs\n",
    "        new_S = cheapest(ewma[sz])\n",
    "        if new_S != size2tag_S[sz]:\n",
    "            trans_S += cm.transfer(new_S, 1)\n",
    "            size2tag_S[sz] = new_S\n",
    "\n",
    "        # ----- rolling window for Dynamic D -----\n",
    "        rolling_q[sz].append(jobs)\n",
    "        rolling_s[sz] += jobs\n",
    "        if len(rolling_q[sz])>ROLL_DAYS:\n",
    "            rolling_s[sz] -= rolling_q[sz].popleft()\n",
    "        avg7 = rolling_s[sz]/len(rolling_q[sz])\n",
    "        new_D = cheapest(avg7)\n",
    "        if new_D != size2tag_D[sz]:\n",
    "            trans_D += cm.transfer(new_D, 1)\n",
    "            size2tag_D[sz] = new_D\n",
    "\n",
    "    # ---------- lease fees ----------\n",
    "    def lease_sum(map_):\n",
    "        vc = pd.Series(map_).reindex(active).value_counts()\n",
    "        return sum(cm.lease(t, n_blocks=vc.get(t,0)) for t in vc.index)\n",
    "    lease_A = lease_sum(size2tag_A)\n",
    "    lease_B = lease_sum(size2tag_B)\n",
    "    lease_S = lease_sum(size2tag_S)\n",
    "    lease_D = lease_sum(size2tag_D)\n",
    "\n",
    "    # ---------- exec + trigger ----------\n",
    "    cA = exec_trigger(df, size2tag_A)\n",
    "    cB = exec_trigger(df, size2tag_B)\n",
    "    cS = exec_trigger(df, size2tag_S)\n",
    "    cD = exec_trigger(df, size2tag_D)\n",
    "\n",
    "    records.append({\n",
    "        \"day\":day,\n",
    "        \"cost_A\": acq_today+lease_A+cA,\n",
    "        \"cost_B\": acq_today+lease_B+cB,\n",
    "        \"cost_S\": acq_today+lease_S+cS+trans_S,\n",
    "        \"cost_D\": acq_today+lease_D+cD+trans_D\n",
    "    })\n",
    "\n",
    "metrics = pd.DataFrame(records)\n",
    "metrics.to_parquet(RESULT/\"daily_metrics.parquet\", compression=\"snappy\")"
   ]
  },
  {
   "cell_type": "code",
   "execution_count": 10,
   "id": "b9ade848",
   "metadata": {},
   "outputs": [
    {
     "name": "stdout",
     "output_type": "stream",
     "text": [
      "🧾 6-Month Cost per Strategy (lower $ is better)\n"
     ]
    },
    {
     "data": {
      "text/html": [
       "<style type=\"text/css\">\n",
       "</style>\n",
       "<table id=\"T_375ad\">\n",
       "  <thead>\n",
       "    <tr>\n",
       "      <th class=\"blank level0\" >&nbsp;</th>\n",
       "      <th id=\"T_375ad_level0_col0\" class=\"col_heading level0 col0\" >Total $</th>\n",
       "      <th id=\"T_375ad_level0_col1\" class=\"col_heading level0 col1\" >Rank</th>\n",
       "    </tr>\n",
       "  </thead>\n",
       "  <tbody>\n",
       "    <tr>\n",
       "      <th id=\"T_375ad_level0_row0\" class=\"row_heading level0 row0\" >D Rolling 7-Day</th>\n",
       "      <td id=\"T_375ad_row0_col0\" class=\"data row0 col0\" >$1,815,573,126.70</td>\n",
       "      <td id=\"T_375ad_row0_col1\" class=\"data row0 col1\" >1</td>\n",
       "    </tr>\n",
       "    <tr>\n",
       "      <th id=\"T_375ad_level0_row1\" class=\"row_heading level0 row1\" >S EWMA Daily</th>\n",
       "      <td id=\"T_375ad_row1_col0\" class=\"data row1 col0\" >$1,822,512,061.93</td>\n",
       "      <td id=\"T_375ad_row1_col1\" class=\"data row1 col1\" >2</td>\n",
       "    </tr>\n",
       "    <tr>\n",
       "      <th id=\"T_375ad_level0_row2\" class=\"row_heading level0 row2\" >B One-Shot</th>\n",
       "      <td id=\"T_375ad_row2_col0\" class=\"data row2 col0\" >$1,878,361,787.71</td>\n",
       "      <td id=\"T_375ad_row2_col1\" class=\"data row2 col1\" >3</td>\n",
       "    </tr>\n",
       "    <tr>\n",
       "      <th id=\"T_375ad_level0_row3\" class=\"row_heading level0 row3\" >A Equal Thirds</th>\n",
       "      <td id=\"T_375ad_row3_col0\" class=\"data row3 col0\" >$3,937,122,560.85</td>\n",
       "      <td id=\"T_375ad_row3_col1\" class=\"data row3 col1\" >4</td>\n",
       "    </tr>\n",
       "  </tbody>\n",
       "</table>\n"
      ],
      "text/plain": [
       "<pandas.io.formats.style.Styler at 0x360b92c10>"
      ]
     },
     "metadata": {},
     "output_type": "display_data"
    },
    {
     "name": "stdout",
     "output_type": "stream",
     "text": [
      "↕️  % Gain (+) or Loss (-) relative to each other\n"
     ]
    },
    {
     "data": {
      "text/html": [
       "<style type=\"text/css\">\n",
       "</style>\n",
       "<table id=\"T_36555\">\n",
       "  <thead>\n",
       "    <tr>\n",
       "      <th class=\"blank level0\" >&nbsp;</th>\n",
       "      <th id=\"T_36555_level0_col0\" class=\"col_heading level0 col0\" >D Rolling 7-Day</th>\n",
       "      <th id=\"T_36555_level0_col1\" class=\"col_heading level0 col1\" >S EWMA Daily</th>\n",
       "      <th id=\"T_36555_level0_col2\" class=\"col_heading level0 col2\" >B One-Shot</th>\n",
       "      <th id=\"T_36555_level0_col3\" class=\"col_heading level0 col3\" >A Equal Thirds</th>\n",
       "    </tr>\n",
       "  </thead>\n",
       "  <tbody>\n",
       "    <tr>\n",
       "      <th id=\"T_36555_level0_row0\" class=\"row_heading level0 row0\" >D Rolling 7-Day</th>\n",
       "      <td id=\"T_36555_row0_col0\" class=\"data row0 col0\" >+0.00%</td>\n",
       "      <td id=\"T_36555_row0_col1\" class=\"data row0 col1\" >+0.38%</td>\n",
       "      <td id=\"T_36555_row0_col2\" class=\"data row0 col2\" >+3.46%</td>\n",
       "      <td id=\"T_36555_row0_col3\" class=\"data row0 col3\" >+116.85%</td>\n",
       "    </tr>\n",
       "    <tr>\n",
       "      <th id=\"T_36555_level0_row1\" class=\"row_heading level0 row1\" >S EWMA Daily</th>\n",
       "      <td id=\"T_36555_row1_col0\" class=\"data row1 col0\" >-0.38%</td>\n",
       "      <td id=\"T_36555_row1_col1\" class=\"data row1 col1\" >+0.00%</td>\n",
       "      <td id=\"T_36555_row1_col2\" class=\"data row1 col2\" >+3.06%</td>\n",
       "      <td id=\"T_36555_row1_col3\" class=\"data row1 col3\" >+116.03%</td>\n",
       "    </tr>\n",
       "    <tr>\n",
       "      <th id=\"T_36555_level0_row2\" class=\"row_heading level0 row2\" >B One-Shot</th>\n",
       "      <td id=\"T_36555_row2_col0\" class=\"data row2 col0\" >-3.34%</td>\n",
       "      <td id=\"T_36555_row2_col1\" class=\"data row2 col1\" >-2.97%</td>\n",
       "      <td id=\"T_36555_row2_col2\" class=\"data row2 col2\" >+0.00%</td>\n",
       "      <td id=\"T_36555_row2_col3\" class=\"data row2 col3\" >+109.60%</td>\n",
       "    </tr>\n",
       "    <tr>\n",
       "      <th id=\"T_36555_level0_row3\" class=\"row_heading level0 row3\" >A Equal Thirds</th>\n",
       "      <td id=\"T_36555_row3_col0\" class=\"data row3 col0\" >-53.89%</td>\n",
       "      <td id=\"T_36555_row3_col1\" class=\"data row3 col1\" >-53.71%</td>\n",
       "      <td id=\"T_36555_row3_col2\" class=\"data row3 col2\" >-52.29%</td>\n",
       "      <td id=\"T_36555_row3_col3\" class=\"data row3 col3\" >+0.00%</td>\n",
       "    </tr>\n",
       "  </tbody>\n",
       "</table>\n"
      ],
      "text/plain": [
       "<pandas.io.formats.style.Styler at 0x361ead790>"
      ]
     },
     "metadata": {},
     "output_type": "display_data"
    },
    {
     "name": "stdout",
     "output_type": "stream",
     "text": [
      "\n",
      "🏆  Cheapest strategy overall: **D Rolling 7-Day** → 1,815,573,126.70 USD\n"
     ]
    }
   ],
   "source": [
    "# ------- Cost-comparison summary for all 4 strategies ------------\n",
    "!pip -q install pyarrow tqdm\n",
    "\n",
    "import pandas as pd, numpy as np, pathlib, itertools, importlib.util, sys, subprocess, json, math, collections, datetime, re, os, types\n",
    "from IPython.display import display\n",
    "\n",
    "# 1) load the 6-month daily metrics you wrote in Notebook 03\n",
    "metrics = pd.read_parquet(\"../results/daily_metrics.parquet\")\n",
    "\n",
    "# 2) total cost for each strategy\n",
    "totals = {\n",
    "    \"A Equal Thirds\" : metrics[\"cost_A\"].sum(),\n",
    "    \"B One-Shot\"     : metrics[\"cost_B\"].sum(),\n",
    "    \"S EWMA Daily\"   : metrics[\"cost_S\"].sum(),\n",
    "    \"D Rolling 7-Day\": metrics[\"cost_D\"].sum(),\n",
    "}\n",
    "\n",
    "tot_df = (pd.Series(totals, name=\"Total $\")\n",
    "            .sort_values()\n",
    "            .to_frame())\n",
    "tot_df[\"Rank\"] = range(1, len(tot_df)+1)\n",
    "\n",
    "# 3) pair-wise % gain/loss\n",
    "strategies = tot_df.index.tolist()\n",
    "comp = pd.DataFrame(index=strategies, columns=strategies, dtype=float)\n",
    "\n",
    "for i, j in itertools.product(strategies, strategies):\n",
    "    if i == j:\n",
    "        comp.loc[i, j] = 0.0\n",
    "    else:\n",
    "        comp.loc[i, j] = (totals[j] - totals[i]) / totals[i] * 100\n",
    "\n",
    "comp = comp.round(2)\n",
    "\n",
    "# 4) display\n",
    "print(\"🧾 6-Month Cost per Strategy (lower $ is better)\")\n",
    "display(tot_df.style.format({\"Total $\": \"${:,.2f}\"}))\n",
    "\n",
    "print(\"↕️  % Gain (+) or Loss (-) relative to each other\")\n",
    "display(comp.style.format(\"{:+.2f}%\"))\n",
    "\n",
    "best = tot_df.index[0]\n",
    "print(f\"\\n🏆  Cheapest strategy overall: **{best}** → \"\n",
    "      f\"{tot_df.loc[best,'Total $']:,.2f} USD\")"
   ]
  },
  {
   "cell_type": "code",
   "execution_count": null,
   "id": "a962b1f6",
   "metadata": {},
   "outputs": [],
   "source": []
  }
 ],
 "metadata": {
  "kernelspec": {
   "display_name": "Python 3 (ipykernel)",
   "language": "python",
   "name": "python3"
  },
  "language_info": {
   "codemirror_mode": {
    "name": "ipython",
    "version": 3
   },
   "file_extension": ".py",
   "mimetype": "text/x-python",
   "name": "python",
   "nbconvert_exporter": "python",
   "pygments_lexer": "ipython3",
   "version": "3.11.5"
  }
 },
 "nbformat": 4,
 "nbformat_minor": 5
}

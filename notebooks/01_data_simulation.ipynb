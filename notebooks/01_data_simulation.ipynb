{
 "cells": [
  {
   "cell_type": "code",
   "execution_count": 1,
   "id": "4dda5ae1",
   "metadata": {},
   "outputs": [],
   "source": [
    "# pip -q install pandas pyarrow numpy"
   ]
  },
  {
   "cell_type": "code",
   "execution_count": null,
   "id": "4b223105",
   "metadata": {},
   "outputs": [],
   "source": []
  },
  {
   "cell_type": "code",
   "execution_count": 4,
   "id": "b2b57797",
   "metadata": {},
   "outputs": [
    {
     "name": "stdout",
     "output_type": "stream",
     "text": [
      "Folders ready ▶ /Users/tej/Career/Projects/Quantum Compute Optimization/v1/data\n"
     ]
    }
   ],
   "source": [
    "import os, pathlib, math, time, numpy as np, pandas as pd\n",
    "\n",
    "DATA_DIR = pathlib.Path(\"../data\")\n",
    "DATA_DIR.mkdir(exist_ok=True)\n",
    "RNG_SEED = 42\n",
    "rng = np.random.default_rng(RNG_SEED)\n",
    "\n",
    "print(\"Folders ready ▶\", DATA_DIR.resolve())"
   ]
  },
  {
   "cell_type": "code",
   "execution_count": 5,
   "id": "44473db7",
   "metadata": {},
   "outputs": [],
   "source": [
    "# ------------------------------------------------------------\n",
    "# Cell 3 – Config constants\n",
    "# ------------------------------------------------------------\n",
    "DAYS                = 180                      # six-month horizon\n",
    "BLOCKS_MIN, BLOCKS_MAX = 1_000, 10_000\n",
    "WL_MIN, WL_MAX      = 1_000_000, 50_000_000\n",
    "QPU_MAX             = 100_000_000             # ← max QPU units"
   ]
  },
  {
   "cell_type": "code",
   "execution_count": 6,
   "id": "f4bfd70d",
   "metadata": {},
   "outputs": [],
   "source": [
    "# ------------------------------------------------------------\n",
    "# Cell 4 – Helper to pick *unique* QPU sizes without huge arrays\n",
    "# ------------------------------------------------------------\n",
    "def pick_unique_sizes(n_needed: int, used: set, high: int) -> list[int]:\n",
    "    \"\"\"Return `n_needed` integers in [1, high] not present in `used`.\"\"\"\n",
    "    out = []\n",
    "    while len(out) < n_needed:\n",
    "        m   = n_needed - len(out)\n",
    "        # sample WITHOUT replacement from the entire range (cheap)\n",
    "        trial = rng.choice(high, size=m, replace=False) + 1\n",
    "        # filter out collisions\n",
    "        trial = [int(x) for x in trial if x not in used]\n",
    "        out.extend(trial)\n",
    "        used.update(trial)\n",
    "    return out"
   ]
  },
  {
   "cell_type": "code",
   "execution_count": 7,
   "id": "26cb50d2",
   "metadata": {},
   "outputs": [],
   "source": [
    "# ------------------------------------------------------------\n",
    "# Cell 5  –  Streaming writer helpers (PyArrow)\n",
    "# ------------------------------------------------------------\n",
    "import pyarrow as pa, pyarrow.parquet as pq\n",
    "from tqdm.auto import tqdm     # nice progress bar\n",
    "\n",
    "blocks_schema = pa.schema([\n",
    "    (\"block_id\",      pa.string()),\n",
    "    (\"qpu_units\",     pa.int32()),\n",
    "    (\"type_initial\",  pa.string()),\n",
    "    (\"lease_day\",     pa.int16()),\n",
    "    (\"acq_cost\",      pa.float32())\n",
    "])\n",
    "\n",
    "wl_schema = pa.schema([\n",
    "    (\"day\",          pa.int16()),\n",
    "    (\"qpu_units\",    pa.int32()),\n",
    "    (\"n_workloads\",  pa.int64())\n",
    "])\n",
    "\n",
    "blocks_path = DATA_DIR / \"blocks.parquet\"\n",
    "wl_path     = DATA_DIR / \"workloads_daily.parquet\"\n",
    "blocks_writer = pq.ParquetWriter(blocks_path, blocks_schema, compression=\"snappy\")\n",
    "wl_writer     = pq.ParquetWriter(wl_path, wl_schema,     compression=\"snappy\")"
   ]
  },
  {
   "cell_type": "code",
   "execution_count": 8,
   "id": "185805ee",
   "metadata": {},
   "outputs": [
    {
     "data": {
      "application/vnd.jupyter.widget-view+json": {
       "model_id": "ccfc5b9380fa44098698b4a039ca9062",
       "version_major": 2,
       "version_minor": 0
      },
      "text/plain": [
       "simulating:   0%|          | 0/180 [00:00<?, ?it/s]"
      ]
     },
     "metadata": {},
     "output_type": "display_data"
    },
    {
     "name": "stdout",
     "output_type": "stream",
     "text": [
      "completed in 301.1s\n"
     ]
    }
   ],
   "source": [
    "# ------------------------------------------------------------\n",
    "# Cell 6  –  Streamed simulation loop  (uses < 0.5 GB)\n",
    "# ------------------------------------------------------------\n",
    "t0 = time.time()\n",
    "all_used_sizes = set()\n",
    "\n",
    "for day in tqdm(range(DAYS), desc=\"simulating\"):\n",
    "    # ---------- blocks ----------\n",
    "    n_blocks = rng.integers(BLOCKS_MIN, BLOCKS_MAX + 1)\n",
    "    sizes    = pick_unique_sizes(n_blocks, all_used_sizes, QPU_MAX)\n",
    "    \n",
    "    blk_tbl = pa.Table.from_pydict({\n",
    "        \"block_id\"     : [f\"B-{day:03}-{i:05}\" for i in range(n_blocks)],\n",
    "        \"qpu_units\"    : sizes,\n",
    "        \"type_initial\" : [None]*n_blocks,\n",
    "        \"lease_day\"    : [day]*n_blocks,\n",
    "        \"acq_cost\"     : [0.20]*n_blocks\n",
    "    }, schema=blocks_schema)\n",
    "    blocks_writer.write_table(blk_tbl)\n",
    "    \n",
    "    # ---------- workload counts ----------\n",
    "    n_wl = rng.integers(WL_MIN, WL_MAX + 1)\n",
    "    wl_sizes, freqs = np.unique(\n",
    "        rng.choice(list(all_used_sizes), size=n_wl, replace=True),\n",
    "        return_counts=True)\n",
    "    \n",
    "    wl_tbl = pa.Table.from_pydict({\n",
    "        \"day\"         : np.full_like(wl_sizes, day, dtype=np.int16),\n",
    "        \"qpu_units\"   : wl_sizes.astype(np.int32),\n",
    "        \"n_workloads\" : freqs.astype(np.int64)\n",
    "    }, schema=wl_schema)\n",
    "    wl_writer.write_table(wl_tbl)\n",
    "    \n",
    "blocks_writer.close()\n",
    "wl_writer.close()\n",
    "print(f\"completed in {time.time()-t0:.1f}s\")"
   ]
  },
  {
   "cell_type": "code",
   "execution_count": 9,
   "id": "7ab437a9",
   "metadata": {},
   "outputs": [
    {
     "name": "stdout",
     "output_type": "stream",
     "text": [
      "Blocks  file: ../data/blocks.parquet → 12.21 MB\n",
      "Workload file: ../data/workloads_daily.parquet → 514.6 MB\n"
     ]
    }
   ],
   "source": [
    "# ------------------------------------------------------------\n",
    "# Cell 7  –  Post-write stats\n",
    "# ------------------------------------------------------------\n",
    "print(\"Blocks  file:\", blocks_path, \"→\", round(blocks_path.stat().st_size/1e6,2), \"MB\")\n",
    "print(\"Workload file:\", wl_path, \"→\", round(wl_path.stat().st_size/1e6,2), \"MB\")\n",
    "\n"
   ]
  },
  {
   "cell_type": "code",
   "execution_count": 10,
   "id": "5f1d25bd",
   "metadata": {},
   "outputs": [
    {
     "data": {
      "text/html": [
       "<div>\n",
       "<style scoped>\n",
       "    .dataframe tbody tr th:only-of-type {\n",
       "        vertical-align: middle;\n",
       "    }\n",
       "\n",
       "    .dataframe tbody tr th {\n",
       "        vertical-align: top;\n",
       "    }\n",
       "\n",
       "    .dataframe thead th {\n",
       "        text-align: right;\n",
       "    }\n",
       "</style>\n",
       "<table border=\"1\" class=\"dataframe\">\n",
       "  <thead>\n",
       "    <tr style=\"text-align: right;\">\n",
       "      <th></th>\n",
       "      <th>block_id</th>\n",
       "      <th>qpu_units</th>\n",
       "    </tr>\n",
       "  </thead>\n",
       "  <tbody>\n",
       "    <tr>\n",
       "      <th>0</th>\n",
       "      <td>B-000-00000</td>\n",
       "      <td>37417910</td>\n",
       "    </tr>\n",
       "    <tr>\n",
       "      <th>1</th>\n",
       "      <td>B-000-00001</td>\n",
       "      <td>99702449</td>\n",
       "    </tr>\n",
       "    <tr>\n",
       "      <th>2</th>\n",
       "      <td>B-000-00002</td>\n",
       "      <td>10674071</td>\n",
       "    </tr>\n",
       "    <tr>\n",
       "      <th>3</th>\n",
       "      <td>B-000-00003</td>\n",
       "      <td>92483044</td>\n",
       "    </tr>\n",
       "    <tr>\n",
       "      <th>4</th>\n",
       "      <td>B-000-00004</td>\n",
       "      <td>62600725</td>\n",
       "    </tr>\n",
       "  </tbody>\n",
       "</table>\n",
       "</div>"
      ],
      "text/plain": [
       "      block_id  qpu_units\n",
       "0  B-000-00000   37417910\n",
       "1  B-000-00001   99702449\n",
       "2  B-000-00002   10674071\n",
       "3  B-000-00003   92483044\n",
       "4  B-000-00004   62600725"
      ]
     },
     "metadata": {},
     "output_type": "display_data"
    }
   ],
   "source": [
    "# quick sample read (couple of MB only)\n",
    "import pandas as pd\n",
    "sample_blocks = pd.read_parquet(blocks_path, columns=[\"block_id\",\"qpu_units\"]).head()\n",
    "display(sample_blocks)"
   ]
  },
  {
   "cell_type": "code",
   "execution_count": 11,
   "id": "a2843df2",
   "metadata": {},
   "outputs": [],
   "source": [
    "sample_blocks = 0"
   ]
  },
  {
   "cell_type": "code",
   "execution_count": null,
   "id": "fbee4487",
   "metadata": {},
   "outputs": [],
   "source": []
  }
 ],
 "metadata": {
  "kernelspec": {
   "display_name": "Python 3 (ipykernel)",
   "language": "python",
   "name": "python3"
  },
  "language_info": {
   "codemirror_mode": {
    "name": "ipython",
    "version": 3
   },
   "file_extension": ".py",
   "mimetype": "text/x-python",
   "name": "python",
   "nbconvert_exporter": "python",
   "pygments_lexer": "ipython3",
   "version": "3.11.5"
  }
 },
 "nbformat": 4,
 "nbformat_minor": 5
}

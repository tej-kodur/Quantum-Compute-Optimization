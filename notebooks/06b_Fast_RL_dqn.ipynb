{
 "cells": [
  {
   "cell_type": "code",
   "execution_count": 1,
   "id": "04f7a8a7",
   "metadata": {},
   "outputs": [
    {
     "name": "stderr",
     "output_type": "stream",
     "text": [
      "/Users/tej/anaconda3/lib/python3.11/site-packages/pandas/core/arrays/masked.py:60: UserWarning: Pandas requires version '1.3.6' or newer of 'bottleneck' (version '1.3.5' currently installed).\n",
      "  from pandas.core import (\n"
     ]
    }
   ],
   "source": [
    "!pip -q install \"stable-baselines3==2.2.1\" gymnasium==0.29 pyarrow tqdm\n",
    "import numpy as np, pandas as pd, pyarrow.dataset as ds, pathlib, collections, math\n",
    "from stable_baselines3 import DQN\n",
    "from cost_model import CostModel"
   ]
  },
  {
   "cell_type": "code",
   "execution_count": 2,
   "id": "79be93e2",
   "metadata": {},
   "outputs": [],
   "source": [
    "DATA   = pathlib.Path(\"../data\")\n",
    "blocks = ds.dataset(DATA/\"blocks.parquet\").to_table().to_pandas()\n",
    "wl_ds  = ds.dataset(DATA/\"workloads_daily.parquet\")\n",
    "cm     = CostModel(\"../provider_configs/qpu_demo.yml\")\n",
    "\n",
    "EXEC      = cm.exec_fee\n",
    "TRANSFER  = cm.transfer_fee\n",
    "LEASE     = {t: cm.lease_fee[t]*24 for t in cm.lease_fee}   # daily $"
   ]
  },
  {
   "cell_type": "code",
   "execution_count": 3,
   "id": "088e12c6",
   "metadata": {},
   "outputs": [],
   "source": [
    "jobs_tbl = (wl_ds\n",
    "            .to_table(columns=[\"qpu_units\",\"day\",\"n_workloads\"])\n",
    "            .to_pandas()\n",
    "            .pivot(index=\"qpu_units\", columns=\"day\", values=\"n_workloads\")\n",
    "            .fillna(0)\n",
    "            .astype(np.int32))\n",
    "\n",
    "lease_day = blocks.set_index(\"qpu_units\").lease_day.to_dict()\n",
    "\n",
    "# lifetime-avg jobs → one-shot cheapest tag\n",
    "tot_jobs   = jobs_tbl.sum(axis=1).values\n",
    "active_days= 180 - np.array([lease_day[s] for s in jobs_tbl.index])\n",
    "avg_jobs   = tot_jobs / active_days\n",
    "bins   = np.array([0, 176, 900, np.inf])\n",
    "labels = np.array([\"Spin\",\"Photon\",\"Atom\"])\n",
    "tag_idx_B = labels[np.digitize(avg_jobs, bins)-1]            # array size N\n",
    "tag_map_B = dict(zip(jobs_tbl.index, tag_idx_B))"
   ]
  },
  {
   "cell_type": "code",
   "execution_count": 4,
   "id": "d0fdabd4",
   "metadata": {},
   "outputs": [
    {
     "name": "stderr",
     "output_type": "stream",
     "text": [
      "/Users/tej/anaconda3/lib/python3.11/site-packages/stable_baselines3/common/save_util.py:449: FutureWarning: You are using `torch.load` with `weights_only=False` (the current default value), which uses the default pickle module implicitly. It is possible to construct malicious pickle data which will execute arbitrary code during unpickling (See https://github.com/pytorch/pytorch/blob/main/SECURITY.md#untrusted-models for more details). In a future release, the default value for `weights_only` will be flipped to `True`. This limits the functions that could be executed during unpickling. Arbitrary objects will no longer be allowed to be loaded via this mode unless they are explicitly allowlisted by the user via `torch.serialization.add_safe_globals`. We recommend you start setting `weights_only=True` for any use case where you don't have full control of the loaded file. Please open an issue on GitHub for any issues related to this experimental feature.\n",
      "  th_object = th.load(file_content, map_location=device)\n"
     ]
    },
    {
     "name": "stdout",
     "output_type": "stream",
     "text": [
      "✔ loaded agent models/qpu_dqn.zip\n"
     ]
    }
   ],
   "source": [
    "MODEL_PATH = pathlib.Path(\"models/qpu_dqn.zip\")\n",
    "model = DQN.load(MODEL_PATH, env=None)\n",
    "print(\"✔ loaded agent\", MODEL_PATH)"
   ]
  },
  {
   "cell_type": "code",
   "execution_count": 5,
   "id": "88b50d28",
   "metadata": {},
   "outputs": [],
   "source": [
    "def fast_simulate(policy):\n",
    "    sizes  = jobs_tbl.index.values\n",
    "    jobs   = jobs_tbl.values                 # shape (N, 180)\n",
    "    lease  = np.array([lease_day[s] for s in sizes])\n",
    "\n",
    "    tag_arr = np.vectorize({\"Atom\":0,\"Photon\":1,\"Spin\":2}.get)(tag_idx_B.copy())\n",
    "    total_B = total_DQN = 0.0\n",
    "    rolling_sum = np.zeros_like(jobs[:,0], dtype=float)\n",
    "\n",
    "    for d in range(180):\n",
    "        active = lease <= d\n",
    "        vc = np.bincount(tag_arr[active], minlength=3)\n",
    "        total_B   += LEASE[\"Atom\"]*vc[0] + LEASE[\"Photon\"]*vc[1] + LEASE[\"Spin\"]*vc[2]\n",
    "        total_DQN += total_B - total_B   # placeholder; will add below\n",
    "\n",
    "        j_today = jobs[:, d]\n",
    "        idx     = np.where((j_today>0) & active)[0]\n",
    "        if idx.size:\n",
    "            rolling_sum[idx] += j_today[idx]\n",
    "            over = (d - lease[idx] >= 7)\n",
    "            if over.any():\n",
    "                rolling_sum[idx[over]] -= jobs[idx[over], d-7]\n",
    "            avg7 = rolling_sum[idx] / np.minimum(7, d - lease[idx] + 1)\n",
    "\n",
    "            obs = np.stack([np.full(idx.size, 179-d),\n",
    "                            avg7/1e6,\n",
    "                            tag_arr[idx],\n",
    "                            j_today[idx]/1e6], axis=1).astype(np.float32)\n",
    "\n",
    "            new_tags = policy.predict(obs, deterministic=True)[0]\n",
    "            changed  = new_tags != tag_arr[idx]\n",
    "            if changed.any():\n",
    "                changed_to = new_tags[changed]\n",
    "                total_DQN += np.sum([TRANSFER[{0:\"Atom\",1:\"Photon\",2:\"Spin\"}[t]] for t in changed_to])\n",
    "                tag_arr[idx[changed]] = changed_to\n",
    "\n",
    "            typ_arr = np.array([\"Atom\",\"Photon\",\"Spin\"])[tag_arr[idx]]\n",
    "            total_B   += np.sum([EXEC[t]*j + cm.trigger_fee*j for t,j in zip(typ_arr, j_today[idx])])\n",
    "            total_DQN += np.sum([EXEC[t]*j + cm.trigger_fee*j for t,j in zip(typ_arr, j_today[idx])])\n",
    "    return total_B, total_DQN"
   ]
  },
  {
   "cell_type": "code",
   "execution_count": 6,
   "id": "54cb3e98",
   "metadata": {},
   "outputs": [
    {
     "name": "stdout",
     "output_type": "stream",
     "text": [
      "Baseline B  : $1,880,178,685.56\n",
      "DQN agent   : $1,032,365,809.11\n",
      "Savings vs B: 45.1 %\n"
     ]
    }
   ],
   "source": [
    "cost_B, cost_DQN = fast_simulate(model)\n",
    "print(f\"Baseline B  : ${cost_B:,.2f}\")\n",
    "print(f\"DQN agent   : ${cost_DQN:,.2f}\")\n",
    "print(f\"Savings vs B: {(cost_B-cost_DQN)/cost_B*100:.1f} %\")"
   ]
  },
  {
   "cell_type": "code",
   "execution_count": 7,
   "id": "44567eb9",
   "metadata": {},
   "outputs": [
    {
     "name": "stdout",
     "output_type": "stream",
     "text": [
      "✔ saved RL total → ../results/rl_total.json\n"
     ]
    }
   ],
   "source": [
    "import json, pathlib\n",
    "RESULTS = pathlib.Path(\"../results\")\n",
    "RESULTS.mkdir(exist_ok=True, parents=True)\n",
    "json.dump({\"rl_total\": cost_DQN}, open(RESULTS/\"rl_total.json\", \"w\"))\n",
    "print(\"✔ saved RL total →\", RESULTS/\"rl_total.json\")"
   ]
  },
  {
   "cell_type": "code",
   "execution_count": null,
   "id": "40fbdcb3",
   "metadata": {},
   "outputs": [],
   "source": []
  }
 ],
 "metadata": {
  "kernelspec": {
   "display_name": "Python 3 (ipykernel)",
   "language": "python",
   "name": "python3"
  },
  "language_info": {
   "codemirror_mode": {
    "name": "ipython",
    "version": 3
   },
   "file_extension": ".py",
   "mimetype": "text/x-python",
   "name": "python",
   "nbconvert_exporter": "python",
   "pygments_lexer": "ipython3",
   "version": "3.11.5"
  }
 },
 "nbformat": 4,
 "nbformat_minor": 5
}
